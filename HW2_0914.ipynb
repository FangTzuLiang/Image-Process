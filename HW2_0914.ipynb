{
  "nbformat": 4,
  "nbformat_minor": 0,
  "metadata": {
    "colab": {
      "provenance": [],
      "authorship_tag": "ABX9TyMky2z7y5oeHv9zh+jGVAhf",
      "include_colab_link": true
    },
    "kernelspec": {
      "name": "python3",
      "display_name": "Python 3"
    },
    "language_info": {
      "name": "python"
    }
  },
  "cells": [
    {
      "cell_type": "markdown",
      "metadata": {
        "id": "view-in-github",
        "colab_type": "text"
      },
      "source": [
        "<a href=\"https://colab.research.google.com/github/FangTzuLiang/Image-Process/blob/main/HW2_0914.ipynb\" target=\"_parent\"><img src=\"https://colab.research.google.com/assets/colab-badge.svg\" alt=\"Open In Colab\"/></a>"
      ]
    },
    {
      "cell_type": "markdown",
      "source": [
        "GRAD-CAM（Gradient-weighted Class Activation Mapping）:一種用於解釋CNN模型預測的視覺解釋技術"
      ],
      "metadata": {
        "id": "YoUvUG3d-xZ_"
      }
    },
    {
      "cell_type": "code",
      "execution_count": 3,
      "metadata": {
        "colab": {
          "base_uri": "https://localhost:8080/"
        },
        "id": "_sn2UtNcnpdk",
        "outputId": "9e1418d3-b488-4929-da85-ddff9f29d7be"
      },
      "outputs": [
        {
          "output_type": "stream",
          "name": "stdout",
          "text": [
            "Downloading data from https://storage.googleapis.com/tensorflow/tf-keras-datasets/mnist.npz\n",
            "11490434/11490434 [==============================] - 0s 0us/step\n",
            "Epoch 1/10\n",
            "469/469 [==============================] - 25s 52ms/step - loss: 2.2322 - accuracy: 0.1823 - val_loss: 2.1217 - val_accuracy: 0.2637\n",
            "Epoch 2/10\n",
            "469/469 [==============================] - 21s 44ms/step - loss: 2.0025 - accuracy: 0.3015 - val_loss: 1.8951 - val_accuracy: 0.3380\n",
            "Epoch 3/10\n",
            "469/469 [==============================] - 22s 48ms/step - loss: 1.8307 - accuracy: 0.3540 - val_loss: 1.7623 - val_accuracy: 0.3748\n",
            "Epoch 4/10\n",
            "469/469 [==============================] - 22s 48ms/step - loss: 1.7257 - accuracy: 0.3829 - val_loss: 1.6762 - val_accuracy: 0.4014\n",
            "Epoch 5/10\n",
            "469/469 [==============================] - 24s 52ms/step - loss: 1.6543 - accuracy: 0.4045 - val_loss: 1.6142 - val_accuracy: 0.4173\n",
            "Epoch 6/10\n",
            "469/469 [==============================] - 21s 44ms/step - loss: 1.6019 - accuracy: 0.4213 - val_loss: 1.5653 - val_accuracy: 0.4382\n",
            "Epoch 7/10\n",
            "469/469 [==============================] - 22s 48ms/step - loss: 1.5618 - accuracy: 0.4335 - val_loss: 1.5264 - val_accuracy: 0.4464\n",
            "Epoch 8/10\n",
            "469/469 [==============================] - 23s 49ms/step - loss: 1.5301 - accuracy: 0.4417 - val_loss: 1.4956 - val_accuracy: 0.4607\n",
            "Epoch 9/10\n",
            "469/469 [==============================] - 20s 43ms/step - loss: 1.5045 - accuracy: 0.4480 - val_loss: 1.4732 - val_accuracy: 0.4624\n",
            "Epoch 10/10\n",
            "469/469 [==============================] - 22s 46ms/step - loss: 1.4837 - accuracy: 0.4537 - val_loss: 1.4537 - val_accuracy: 0.4646\n"
          ]
        },
        {
          "output_type": "execute_result",
          "data": {
            "text/plain": [
              "<keras.src.callbacks.History at 0x78c751518e20>"
            ]
          },
          "metadata": {},
          "execution_count": 3
        }
      ],
      "source": [
        "# 用keras建立model\n",
        "import random\n",
        "import numpy as np\n",
        "import matplotlib.pyplot as plt\n",
        "import tensorflow as tf\n",
        "import cv2\n",
        "from tensorflow.keras.datasets import mnist\n",
        "from tensorflow.keras.models import Sequential, Model\n",
        "from tensorflow.keras.layers import Conv2D, MaxPooling2D, Flatten, Dense, GlobalAveragePooling2D\n",
        "from tensorflow.keras.preprocessing import image\n",
        "from tensorflow.keras.utils import to_categorical\n",
        "import tensorflow.keras.backend as K\n",
        "\n",
        "# Load MNIST dataset\n",
        "(X_train, y_train), (X_test, y_test) = mnist.load_data()\n",
        "# 彩色影像reshape\n",
        "X_train = X_train.reshape(-1, 28, 28, 1).astype('float32') / 255\n",
        "X_test = X_test.reshape(-1, 28, 28, 1).astype('float32') / 255\n",
        "# to_categorical將目標變量進行One-Hot編碼，將類別轉為二進制\n",
        "y_train = to_categorical(y_train)\n",
        "y_test = to_categorical(y_test)\n",
        "\n",
        "# Create a simple CNN model\n",
        "model = Sequential()# 創建一個 Sequential 模型，用於堆疊神經網路層\n",
        "# 添加一個2D卷積層，使用32個濾波器，每個濾波器大小為3x3，啟動函數為ReLU，輸入形狀為28x28x1\n",
        "model.add(Conv2D(32, kernel_size=(3, 3), activation='relu', input_shape=(28, 28, 1)))\n",
        "# 添加一個2D最大池化層，池化窗口大小為2x2\n",
        "model.add(MaxPooling2D(pool_size=(2, 2)))\n",
        "# 添加一個全局平均池化層，用於降低Feature Map維度。降維方法:Max Pooling、Autoencoder、Feature Selection...\n",
        "model.add(GlobalAveragePooling2D())\n",
        "# 添加一個全連接層，輸出維度為10，啟動函數為softmax\n",
        "model.add(Dense(10, activation='softmax'))\n",
        "\n",
        "# 編譯模型\n",
        "model.compile(loss='categorical_crossentropy', optimizer='adam', metrics=['accuracy'])\n",
        "\n",
        "# Train the model (you can adjust epochs and batch size as needed)\n",
        "model.fit(X_train, y_train, batch_size=128, epochs=10, validation_data=(X_test, y_test))"
      ]
    },
    {
      "cell_type": "code",
      "source": [
        "# Define Grad-CAM function\n",
        "def grad_cam(input_model, image):\n",
        "    # 將輸入圖像擴展為4D張量，加到批次中，讓模型可以跑得更有效率\n",
        "    x = np.expand_dims(image, axis=0)\n",
        "    preds = input_model.predict(x)# 預測\n",
        "\n",
        "    # Get the last convolutional layer\n",
        "    last_conv_layer = input_model.get_layer('conv2d')\n",
        "    # 創建一個新的模型last_conv_layer_model，只包括最後一個卷積層的輸出\n",
        "    last_conv_layer_model = tf.keras.Model(input_model.inputs, last_conv_layer.output)\n",
        "\n",
        "    # 創建一個分類器模型，用於後續計算梯度\n",
        "    # 創建一個新的輸入層y，形狀與最後一個卷積層的輸出形狀相同\n",
        "    classifier_input = tf.keras.Input(shape=last_conv_layer.output.shape[1:])\n",
        "    y = classifier_input\n",
        "    # 將input_model的層添加到了y中\n",
        "    for layer_name in [\"global_average_pooling2d\", \"dense\"]:\n",
        "        y = model.get_layer(layer_name)(y)\n",
        "\n",
        "    # 創建一個新的模型classifier_model，輸入為classifier_input，輸出為y\n",
        "    # classifier_model是一個包含了原始model中指定的層的模型，用於進行分類操作\n",
        "    # 這個新模型將被用於後續計算梯度和生成GRAD-CAM熱度圖\n",
        "    classifier_model = tf.keras.Model(classifier_input, y)\n",
        "\n",
        "    # 使用梯度帶（GradientTape）計算梯度\n",
        "    with tf.GradientTape() as tape:\n",
        "      inputs = image[np.newaxis, ...]\n",
        "      last_conv_layer_output = last_conv_layer_model(inputs)\n",
        "\n",
        "      # 設置梯度帶以監控最後卷積層的輸出\n",
        "      tape.watch(last_conv_layer_output)\n",
        "\n",
        "      # 使用分類器模型進行預測\n",
        "      preds = classifier_model(last_conv_layer_output)\n",
        "      # 獲取預測中的最高概率類別索引\n",
        "      top_pred_index = tf.argmax(preds[0])\n",
        "      # 獲取預測中的最高概率類別的分數\n",
        "      top_class_channel = preds[:, top_pred_index]\n",
        "      print(top_pred_index)\n",
        "\n",
        "    # 計算相對於最後卷積層輸出的梯度\n",
        "    grads = tape.gradient(top_class_channel, last_conv_layer_output)\n",
        "\n",
        "    # 將梯度平均以獲得池化後的梯度\n",
        "    pooled_grads = tf.reduce_mean(grads, axis=(0, 1, 2))\n",
        "\n",
        "\n",
        "    # 轉為NumPy陣列\n",
        "    last_conv_layer_output = last_conv_layer_output.numpy()[0]\n",
        "    pooled_grads = pooled_grads.numpy()\n",
        "\n",
        "    # 這個迴圈將對每個filters的相應區域進行梯度加權\n",
        "    for i in range(pooled_grads.shape[-1]):\n",
        "        # 乘以每個filters的池化梯度\n",
        "        last_conv_layer_output[:, :, i] *= pooled_grads[i]\n",
        "\n",
        "    # Average over all the filters to get a single 2D array\n",
        "    gradcam = np.mean(last_conv_layer_output, axis=-1)\n",
        "    # Clip the values (equivalent to applying ReLU) and then normalise the values\n",
        "    gradcam = np.clip(gradcam, 0, np.max(gradcam)) / np.max(gradcam)\n",
        "    # 調整大小以匹配原始圖像大小\n",
        "    gradcam = cv2.resize(gradcam, (28, 28))\n",
        "    return gradcam"
      ],
      "metadata": {
        "id": "DLdGHk6opZHc"
      },
      "execution_count": 4,
      "outputs": []
    },
    {
      "cell_type": "code",
      "source": [
        "model.summary()\n",
        "grad_cam = grad_cam(model, X_test[0])"
      ],
      "metadata": {
        "colab": {
          "base_uri": "https://localhost:8080/"
        },
        "id": "AudytAIxplx5",
        "outputId": "77ce0fb4-68a0-4663-d734-18ffc1cc4b5c"
      },
      "execution_count": 5,
      "outputs": [
        {
          "output_type": "stream",
          "name": "stdout",
          "text": [
            "Model: \"sequential\"\n",
            "_________________________________________________________________\n",
            " Layer (type)                Output Shape              Param #   \n",
            "=================================================================\n",
            " conv2d (Conv2D)             (None, 26, 26, 32)        320       \n",
            "                                                                 \n",
            " max_pooling2d (MaxPooling2  (None, 13, 13, 32)        0         \n",
            " D)                                                              \n",
            "                                                                 \n",
            " global_average_pooling2d (  (None, 32)                0         \n",
            " GlobalAveragePooling2D)                                         \n",
            "                                                                 \n",
            " dense (Dense)               (None, 10)                330       \n",
            "                                                                 \n",
            "=================================================================\n",
            "Total params: 650 (2.54 KB)\n",
            "Trainable params: 650 (2.54 KB)\n",
            "Non-trainable params: 0 (0.00 Byte)\n",
            "_________________________________________________________________\n",
            "1/1 [==============================] - 0s 96ms/step\n",
            "tf.Tensor(1, shape=(), dtype=int64)\n"
          ]
        }
      ]
    },
    {
      "cell_type": "code",
      "source": [
        "plt.imshow(X_test[0].squeeze(), cmap='gray')\n",
        "print(X_test[0].shape)\n",
        "plt.imshow(grad_cam, alpha=0.5, cmap='jet')"
      ],
      "metadata": {
        "id": "T1OOjkLutPjO",
        "outputId": "8246ce12-f166-4aae-d599-42859d164c41",
        "colab": {
          "base_uri": "https://localhost:8080/",
          "height": 466
        }
      },
      "execution_count": 6,
      "outputs": [
        {
          "output_type": "stream",
          "name": "stdout",
          "text": [
            "(28, 28, 1)\n"
          ]
        },
        {
          "output_type": "execute_result",
          "data": {
            "text/plain": [
              "<matplotlib.image.AxesImage at 0x78c73d4cfac0>"
            ]
          },
          "metadata": {},
          "execution_count": 6
        },
        {
          "output_type": "display_data",
          "data": {
            "text/plain": [
              "<Figure size 640x480 with 1 Axes>"
            ],
            "image/png": "[encoded data removed]"
          },
          "metadata": {}
        }
      ]
    }
  ]
}